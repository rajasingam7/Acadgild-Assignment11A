{
 "cells": [
  {
   "cell_type": "code",
   "execution_count": null,
   "metadata": {},
   "outputs": [],
   "source": [
    "# Question 1. What are the three stages to build the hypotheses or model in machine learning?\n",
    "\n",
    "-->Answer:\n",
    "\n",
    "Following are the three stages to build the hypotheses or model in machine learning:\n",
    "\n",
    "a) Model building - Select the algorithm, Engineer features\n",
    "\n",
    "b) Model testing  - Assess performance, compare alternatives, Score Models \n",
    "\n",
    "c) Applying the model - Apply model to fresh data, Monitor outcomes, Improve Model"
   ]
  },
  {
   "cell_type": "code",
   "execution_count": null,
   "metadata": {},
   "outputs": [],
   "source": [
    "# Question 2. What is the standard approach to supervised learning?\n",
    "\n",
    "-->Answer:\n",
    "The standard approach to supervised learning is to split the set of example \n",
    "into the training set and the test set."
   ]
  },
  {
   "cell_type": "code",
   "execution_count": null,
   "metadata": {},
   "outputs": [],
   "source": [
    "# Question 3. What is Training set and Test set?\n",
    "\n",
    "-->Answer:\n",
    "Training Set: In Machine Learning, a training set is a dataset used to train a model. \n",
    "In training the model, specific features are picked out from the training set. \n",
    "These features are then incorporated into the model. Thereby, if the training set is \n",
    "labeled correctly, the model should be able to learn something from these features.\n",
    "\n",
    "Test Set: The test set is a dataset used to measure how well the model performs at \n",
    "making predictions on that test set. If the prediction scores for the test set \n",
    "are unreasonable, we’ll have to make some adjustments to our model and try again."
   ]
  },
  {
   "cell_type": "code",
   "execution_count": null,
   "metadata": {},
   "outputs": [],
   "source": [
    "# Question 4. What is the general principle of an ensemble method and what is bagging and\n",
    "# boosting in ensemble method?\n",
    "\n",
    "-->Answer:\n",
    "General principle of ensemble method – \n",
    "The general principle of an ensemble method is to combine the predictions of several models built with a given learning algorithm in order to improve robustness over a single model.\n",
    "\n",
    "Bagging – \n",
    "Bootstrap aggregating, also called bagging, is a machine learning ensemble meta-algorithm designed to improve the stability and accuracy of machine learning algorithms used in statistical classification and regression. It also reduces variance and helps to avoid overfitting. Although it is usually applied to decision tree methods, it can be used with any type of method. Bagging is a special case of the model averaging approach.\n",
    "\n",
    "Boosting – \n",
    "Boosting is a machine learning ensemble meta-algorithm for primarily reducing bias, and also variance in supervised learning, and a family of machine learning algorithms that convert weak learners to strong ones.\n"
   ]
  },
  {
   "cell_type": "code",
   "execution_count": null,
   "metadata": {},
   "outputs": [],
   "source": [
    "# Question 5. How can you avoid overfitting ?\n",
    "\n",
    "-->Answer:\n",
    "Cross-Validation\n",
    "Pre-pruning\n",
    "Post-pruning\n",
    "Regularization\n",
    "Feature Selection\n",
    "Take more data\n"
   ]
  },
  {
   "cell_type": "code",
   "execution_count": null,
   "metadata": {
    "collapsed": true
   },
   "outputs": [],
   "source": []
  }
 ],
 "metadata": {
  "kernelspec": {
   "display_name": "Python 3",
   "language": "python",
   "name": "python3"
  },
  "language_info": {
   "codemirror_mode": {
    "name": "ipython",
    "version": 3
   },
   "file_extension": ".py",
   "mimetype": "text/x-python",
   "name": "python",
   "nbconvert_exporter": "python",
   "pygments_lexer": "ipython3",
   "version": "3.7.0"
  }
 },
 "nbformat": 4,
 "nbformat_minor": 2
}
